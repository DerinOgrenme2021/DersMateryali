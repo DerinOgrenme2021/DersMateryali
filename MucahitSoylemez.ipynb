{
  "nbformat": 4,
  "nbformat_minor": 0,
  "metadata": {
    "colab": {
      "name": "Untitled0.ipynb",
      "provenance": [],
      "authorship_tag": "ABX9TyOPI7Sm6Xn3IwT8kKCMdR8i",
      "include_colab_link": true
    },
    "kernelspec": {
      "name": "python3",
      "display_name": "Python 3"
    },
    "language_info": {
      "name": "python"
    }
  },
  "cells": [
    {
      "cell_type": "markdown",
      "metadata": {
        "id": "view-in-github",
        "colab_type": "text"
      },
      "source": [
        "<a href=\"https://colab.research.google.com/github/DerinOgrenme2021/DersMateryali/blob/main/MucahitSoylemez.ipynb\" target=\"_parent\"><img src=\"https://colab.research.google.com/assets/colab-badge.svg\" alt=\"Open In Colab\"/></a>"
      ]
    },
    {
      "cell_type": "code",
      "metadata": {
        "id": "Z8hUQ_X7ATFj"
      },
      "source": [
        "import io\n",
        "print('hello world')"
      ],
      "execution_count": null,
      "outputs": []
    },
    {
      "cell_type": "code",
      "metadata": {
        "colab": {
          "base_uri": "https://localhost:8080/"
        },
        "id": "L3C-X3OyCIZ2",
        "outputId": "d904e08e-17fc-42b8-d8ed-f4493b24538a"
      },
      "source": [
        "i = [10,2,3,4,5];\n",
        "for a in i:\n",
        "    print(a);\n"
      ],
      "execution_count": 6,
      "outputs": [
        {
          "output_type": "stream",
          "text": [
            "10\n",
            "2\n",
            "3\n",
            "4\n",
            "5\n"
          ],
          "name": "stdout"
        }
      ]
    },
    {
      "cell_type": "markdown",
      "metadata": {
        "id": "R2BFiUP8CJyp"
      },
      "source": [
        "# Yeni Bölüm"
      ]
    }
  ]
}