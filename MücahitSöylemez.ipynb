// 1.Hafta
print("Hello, World!")
